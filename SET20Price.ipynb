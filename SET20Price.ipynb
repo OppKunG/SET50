{
 "cells": [
  {
   "cell_type": "code",
   "execution_count": null,
   "metadata": {},
   "outputs": [],
   "source": [
    "# เก็บข้อมูลจากเว็บ\n",
    "\n",
    "import pandas as pd\n",
    "from selenium import webdriver\n",
    "\n",
    "\n",
    "def get_set50():\n",
    "    driver = webdriver.Chrome()\n",
    "    driver.get('https://www.set.or.th/th/market/index/set50/overview')\n",
    "    return driver\n",
    "\n",
    "\n",
    "driver = get_set50()\n",
    "\n",
    "\n",
    "def get_set_df(driver):\n",
    "    data = driver.page_source\n",
    "    data_df = pd.read_html(data)[2]\n",
    "    clean_column = []\n",
    "    for c in data_df.columns:\n",
    "        clean_column.append(c.replace('  (Click to sort Ascending)', ''))\n",
    "    data_df.columns = clean_column\n",
    "    data_df = data_df.set_index('หลักทรัพย์')\n",
    "    return data_df\n",
    "\n",
    "\n",
    "data_df = get_set_df(driver)\n",
    "\n",
    "\n",
    "def get_stock_data(stock, driver, all_stock_dict):\n",
    "    stock = stock.split()[0]\n",
    "    url = 'https://www.set.or.th/th/market/product/stock/quote/' + \\\n",
    "        stock+'/financial-statement/company-highlights'\n",
    "    driver.get(url)\n",
    "    stock_data = driver.page_source\n",
    "    a_df = pd.read_html(stock_data)[1]\n",
    "    all_stock_dict[stock] = a_df\n",
    "    return driver, all_stock_dict\n",
    "\n",
    "\n",
    "all_stock_dict = dict()\n",
    "for stock in data_df.index:\n",
    "    driver, all_stock_dict = get_stock_data(stock, driver, all_stock_dict)\n"
   ]
  },
  {
   "cell_type": "code",
   "execution_count": null,
   "metadata": {},
   "outputs": [],
   "source": [
    "# ล็อคตารางที่ต้องการ\n",
    "\n",
    "for key in all_stock_dict.keys():\n",
    "    stock_df = all_stock_dict[key]\n",
    "    stock_df.set_index('ค่าสถิติสำคัญ ณ วันที่', inplace=True)"
   ]
  },
  {
   "cell_type": "code",
   "execution_count": null,
   "metadata": {},
   "outputs": [],
   "source": [
    "# ฟังก์ชันตาราง\n",
    "\n",
    "result_dict = dict()\n",
    "\n",
    "\n",
    "def update_select_data(key, select_column, select_row, result_dict):\n",
    "    try:\n",
    "        select_data = all_stock_dict[key][select_column][select_row]\n",
    "        result_dict[key] = float(select_data)\n",
    "    except KeyError:\n",
    "        pass\n",
    "    except ValueError:\n",
    "        pass\n",
    "    return result_dict\n",
    "\n",
    "\n",
    "def generate_df(result_dict, select_row):\n",
    "    result_df = pd.DataFrame([result_dict])\n",
    "    result_df = result_df.transpose()\n",
    "    result_df.columns = [select_row]\n",
    "\n",
    "    return result_df\n"
   ]
  },
  {
   "cell_type": "code",
   "execution_count": null,
   "metadata": {},
   "outputs": [],
   "source": [
    "# Config\n",
    "\n",
    "select_column = []\n",
    "\n",
    "for i in range(0, len(all_stock_dict[key].columns)):\n",
    "    select_column.append(str(all_stock_dict[key].columns[i]))\n",
    "\n",
    "select_row = 'ราคาล่าสุด (บาท)'\n"
   ]
  },
  {
   "cell_type": "code",
   "execution_count": null,
   "metadata": {},
   "outputs": [],
   "source": [
    "# สร้างตาราง\n",
    "\n",
    "priceDay_df = []\n",
    "\n",
    "for i in range(0, len(select_column)):\n",
    "    for key in all_stock_dict.keys():\n",
    "        result_dict = update_select_data(\n",
    "            key, select_column[i], select_row, result_dict)\n",
    "\n",
    "    priceDay_df.append(generate_df(result_dict, select_column[i]))\n",
    "\n",
    "resultPrice_df = priceDay_df[0]\n",
    "\n",
    "for i in range(0, len(select_column)):\n",
    "    resultPrice_df[select_column[i]] = priceDay_df[i]\n",
    "\n",
    "resultPrice_df\n"
   ]
  },
  {
   "cell_type": "code",
   "execution_count": null,
   "metadata": {},
   "outputs": [],
   "source": [
    "# Jupyter to Excel\n",
    "\n",
    "!jupyter nbconvert --to xls SET20Price.ipynb"
   ]
  }
 ],
 "metadata": {
  "interpreter": {
   "hash": "c2d93bcbe5fea06597f3f6bb23372374b758ebb586ba5ab20a6ec404cba06160"
  },
  "kernelspec": {
   "display_name": "Python 3.10.4 64-bit",
   "language": "python",
   "name": "python3"
  },
  "language_info": {
   "codemirror_mode": {
    "name": "ipython",
    "version": 3
   },
   "file_extension": ".py",
   "mimetype": "text/x-python",
   "name": "python",
   "nbconvert_exporter": "python",
   "pygments_lexer": "ipython3",
   "version": "3.10.4"
  },
  "orig_nbformat": 4
 },
 "nbformat": 4,
 "nbformat_minor": 2
}
